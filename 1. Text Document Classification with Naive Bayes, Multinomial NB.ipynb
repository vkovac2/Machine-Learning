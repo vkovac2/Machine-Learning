{
 "cells": [
  {
   "cell_type": "markdown",
   "metadata": {},
   "source": [
    "**Name:** Veljko Kovac"
   ]
  },
  {
   "cell_type": "markdown",
   "metadata": {},
   "source": [
    "# Text Document Classification with Naive Bayes, Multinomial NB\n",
    "We will classify text documents using Naive Bayes classifers.  We will be working with the dataset called \"20 Newsgroups\", which is a collection of 20,000 newsgroup posts organized into 20 categories."
   ]
  },
  {
   "cell_type": "markdown",
   "metadata": {},
   "source": [
    "## 1. Loading the 20 Newsgroups Dataset\n",
    "The dataset is called “20 Newsgroups”. Here is the official description, quoted from the [website](http://qwone.com/~jason/20Newsgroups/)\n",
    ">The 20 Newsgroups data set is a collection of approximately 20,000 newsgroup documents, partitioned (nearly) evenly across 20 different newsgroups. To the best of our knowledge, it was originally collected by Ken Lang, probably for his paper “Newsweeder: Learning to filter netnews,” though he does not explicitly mention this collection. The 20 newsgroups collection has become a popular data set for experiments in text applications of machine learning techniques, such as text classification and text clustering."
   ]
  },
  {
   "cell_type": "code",
   "execution_count": 1,
   "metadata": {},
   "outputs": [],
   "source": [
    "# %matplotlib inline\n",
    "# import IPython.core.display         \n",
    "# setup output image format (Chrome works best)\n",
    "# IPython.core.display.set_matplotlib_formats(\"svg\")\n",
    "import matplotlib.pyplot as plt\n",
    "import matplotlib\n",
    "from numpy import *\n",
    "from sklearn import *\n",
    "from scipy import stats\n",
    "random.seed(100)"
   ]
  },
  {
   "cell_type": "markdown",
   "metadata": {},
   "source": [
    "- Extract 4 classes ('alt.atheism', 'talk.religion.misc', 'comp.graphics', 'sci.space') from the dataset. "
   ]
  },
  {
   "cell_type": "code",
   "execution_count": 2,
   "metadata": {},
   "outputs": [],
   "source": [
    "# strip away headers/footers/quotes from the text\n",
    "removeset = ('headers', 'footers', 'quotes')\n",
    "\n",
    "# only use 4 categories\n",
    "cats      = ['alt.atheism', 'talk.religion.misc', 'comp.graphics', 'sci.space']\n",
    "\n",
    "# load the training and testing sets\n",
    "newsgroups_train = datasets.fetch_20newsgroups(subset='train',\n",
    "                           remove=removeset, categories=cats, data_home='./')\n",
    "newsgroups_test  = datasets.fetch_20newsgroups(subset='test', \n",
    "                           remove=removeset, categories=cats, data_home='./')"
   ]
  },
  {
   "cell_type": "code",
   "execution_count": 3,
   "metadata": {
    "scrolled": true
   },
   "outputs": [
    {
     "name": "stdout",
     "output_type": "stream",
     "text": [
      "training set size: 2034\n",
      "testing set size:  1353\n",
      "['alt.atheism', 'comp.graphics', 'sci.space', 'talk.religion.misc']\n"
     ]
    }
   ],
   "source": [
    "print(\"training set size:\", len(newsgroups_train.data))\n",
    "print(\"testing set size: \",  len(newsgroups_test.data))\n",
    "print(newsgroups_train.target_names)"
   ]
  },
  {
   "cell_type": "markdown",
   "metadata": {},
   "source": [
    "- Count the number examples in each class.  `newsgroups_train.target` is an array of class values (0 through 3), and `newsgroups_train.target[i]` is the class of the i-th document."
   ]
  },
  {
   "cell_type": "code",
   "execution_count": 4,
   "metadata": {},
   "outputs": [
    {
     "name": "stdout",
     "output_type": "stream",
     "text": [
      "class counts\n",
      "alt.atheism         : 480\n",
      "comp.graphics       : 584\n",
      "sci.space           : 593\n",
      "talk.religion.misc  : 377\n"
     ]
    }
   ],
   "source": [
    "print(\"class counts\")\n",
    "for i in [0, 1, 2, 3]:\n",
    "    print(\"{:20s}: {}\".format(newsgroups_train.target_names[i], sum(newsgroups_train.target == i)))"
   ]
  },
  {
   "cell_type": "markdown",
   "metadata": {},
   "source": [
    "- Show the documents.  `newsgroups_train.data` is a list of strings, and `newsgroups_train.data[i]` is the i-th document."
   ]
  },
  {
   "cell_type": "code",
   "execution_count": 5,
   "metadata": {},
   "outputs": [
    {
     "name": "stdout",
     "output_type": "stream",
     "text": [
      "--- document 0 (class=comp.graphics) ---\n",
      "Hi,\n",
      "\n",
      "I've noticed that if you only save a model (with all your mapping planes\n",
      "positioned carefully) to a .3DS file that when you reload it after restarting\n",
      "3DS, they are given a default position and orientation.  But if you save\n",
      "to a .PRJ file their positions/orientation are preserved.  Does anyone\n",
      "know why this information is not stored in the .3DS file?  Nothing is\n",
      "explicitly said in the manual about saving texture rules in the .PRJ file. \n",
      "I'd like to be able to read the texture rule information, does anyone have \n",
      "the format for the .PRJ file?\n",
      "\n",
      "Is the .CEL file format available from somewhere?\n",
      "\n",
      "Rych\n",
      "--- document 1 (class=talk.religion.misc) ---\n",
      "\n",
      "\n",
      "Seems to be, barring evidence to the contrary, that Koresh was simply\n",
      "another deranged fanatic who thought it neccessary to take a whole bunch of\n",
      "folks with him, children and all, to satisfy his delusional mania. Jim\n",
      "Jones, circa 1993.\n",
      "\n",
      "\n",
      "Nope - fruitcakes like Koresh have been demonstrating such evil corruption\n",
      "for centuries.\n",
      "--- document 2 (class=sci.space) ---\n",
      "\n",
      " >In article <1993Apr19.020359.26996@sq.sq.com>, msb@sq.sq.com (Mark Brader) \n",
      "\n",
      "MB>                                                             So the\n",
      "MB> 1970 figure seems unlikely to actually be anything but a perijove.\n",
      "\n",
      "JG>Sorry, _perijoves_...I'm not used to talking this language.\n",
      "\n",
      "Couldn't we just say periapsis or apoapsis?\n",
      "\n",
      " \n",
      "--- document 3 (class=alt.atheism) ---\n",
      "I have a request for those who would like to see Charley Wingate\n",
      "respond to the \"Charley Challenges\" (and judging from my e-mail, there\n",
      "appear to be quite a few of you.)  \n",
      "\n",
      "It is clear that Mr. Wingate intends to continue to post tangential or\n",
      "unrelated articles while ingoring the Challenges themselves.  Between\n",
      "the last two re-postings of the Challenges, I noted perhaps a dozen or\n",
      "more posts by Mr. Wingate, none of which answered a single Challenge.  \n",
      "\n",
      "It seems unmistakable to me that Mr. Wingate hopes that the questions\n",
      "will just go away, and he is doing his level best to change the\n",
      "subject.  Given that this seems a rather common net.theist tactic, I\n",
      "would like to suggest that we impress upon him our desire for answers,\n",
      "in the following manner:\n",
      "\n",
      "1. Ignore any future articles by Mr. Wingate that do not address the\n",
      "Challenges, until he answers them or explictly announces that he\n",
      "refuses to do so.\n",
      "\n",
      "--or--\n",
      "\n",
      "2. If you must respond to one of his articles, include within it\n",
      "something similar to the following:\n",
      "\n",
      "    \"Please answer the questions posed to you in the Charley Challenges.\"\n",
      "\n",
      "Really, I'm not looking to humiliate anyone here, I just want some\n",
      "honest answers.  You wouldn't think that honesty would be too much to\n",
      "ask from a devout Christian, would you?  \n",
      "\n",
      "Nevermind, that was a rhetorical question.\n"
     ]
    }
   ],
   "source": [
    "for i in [0, 1, 2 ,3]:\n",
    "    print(\"--- document {} (class={}) ---\".format(\n",
    "        i, newsgroups_train.target_names[newsgroups_train.target[i]]))\n",
    "    print(newsgroups_train.data[i])"
   ]
  },
  {
   "cell_type": "markdown",
   "metadata": {},
   "source": [
    "## 2. Extracting Features\n"
   ]
  },
  {
   "cell_type": "markdown",
   "metadata": {},
   "source": [
    "#### Bag of Words\n"
   ]
  },
  {
   "cell_type": "markdown",
   "metadata": {},
   "source": [
    "Because one-hot encoding is impractical when the scale of corpus become large we will use Bag of Words."
   ]
  },
  {
   "cell_type": "code",
   "execution_count": 6,
   "metadata": {
    "scrolled": false
   },
   "outputs": [
    {
     "name": "stdout",
     "output_type": "stream",
     "text": [
      "['and', 'document', 'first', 'is', 'one', 'second', 'the', 'third', 'this']\n",
      "[[0 1 1 1 0 0 1 0 1]\n",
      " [0 2 0 1 0 1 1 0 1]\n",
      " [1 0 0 1 1 0 1 1 1]\n",
      " [0 1 1 1 0 0 1 0 1]]\n"
     ]
    }
   ],
   "source": [
    "from sklearn.feature_extraction.text import CountVectorizer\n",
    "\n",
    "corpus = ['This is the first document.',\n",
    "\t'This document is the second document.',\n",
    "\t'And this is the third one.',\n",
    "\t'Is this the first document?']\n",
    " \n",
    "vectorizer = CountVectorizer()\n",
    "X = vectorizer.fit_transform(corpus)\n",
    " \n",
    "print(vectorizer.get_feature_names())\n",
    "print(X.toarray())\n"
   ]
  },
  {
   "cell_type": "markdown",
   "metadata": {},
   "source": [
    "### Term Frequency - Inverse Document Frequency (TF-IDF)"
   ]
  },
  {
   "cell_type": "markdown",
   "metadata": {},
   "source": [
    "In the word bag model, we can get the vector representation of this text. However, in the face of the diversity of text, each word has different weight to the content of text in practical application, so we introduce tf-idf model."
   ]
  },
  {
   "cell_type": "code",
   "execution_count": 7,
   "metadata": {},
   "outputs": [],
   "source": [
    "vectorizer = CountVectorizer(stop_words = 'english')\n",
    "train_X = vectorizer.fit_transform(newsgroups_train.data)\n",
    "train_Y = newsgroups_train.target\n",
    "\n",
    "test_X = vectorizer.transform(newsgroups_test.data)\n",
    "test_Y = newsgroups_test.target\n",
    "\n",
    "\n"
   ]
  },
  {
   "cell_type": "markdown",
   "metadata": {},
   "source": [
    "## 3. Bernoulli Naive Bayes \n",
    "Learn a Bernoulli Naive Bayes model from the training set. "
   ]
  },
  {
   "cell_type": "code",
   "execution_count": 8,
   "metadata": {},
   "outputs": [
    {
     "name": "stdout",
     "output_type": "stream",
     "text": [
      "0.7354028085735402\n"
     ]
    }
   ],
   "source": [
    "from sklearn.naive_bayes import BernoulliNB\n",
    "\n",
    "bnb = BernoulliNB(alpha=0.0000000001, binarize=0.0, fit_prior=True)\n",
    "bnb.fit(train_X, train_Y)\n",
    "bnb_score = bnb.score(test_X, test_Y)\n",
    "print(bnb_score)"
   ]
  },
  {
   "cell_type": "markdown",
   "metadata": {},
   "source": [
    "What are the most informative words for each category? \n"
   ]
  },
  {
   "cell_type": "code",
   "execution_count": 9,
   "metadata": {
    "scrolled": false
   },
   "outputs": [
    {
     "name": "stdout",
     "output_type": "stream",
     "text": [
      "class alt.atheism\n",
      "    time      (-1.80434)\n",
      "    know      (-1.60944)\n",
      "    does      (-1.60944)\n",
      "    god       (-1.58882)\n",
      "    like      (-1.54881)\n",
      "    say       (-1.52940)\n",
      "    just      (-1.45529)\n",
      "    think     (-1.39466)\n",
      "    people    (-1.29859)\n",
      "    don       (-1.19018)\n",
      "class comp.graphics\n",
      "    just      (-1.95106)\n",
      "    don       (-1.91555)\n",
      "    program   (-1.88126)\n",
      "    need      (-1.85904)\n",
      "    does      (-1.74493)\n",
      "    use       (-1.73517)\n",
      "    like      (-1.60773)\n",
      "    know      (-1.51009)\n",
      "    graphics  (-1.49470)\n",
      "    thanks    (-1.47206)\n",
      "class sci.space\n",
      "    earth     (-1.90786)\n",
      "    use       (-1.88538)\n",
      "    time      (-1.77007)\n",
      "    know      (-1.73123)\n",
      "    think     (-1.73123)\n",
      "    nasa      (-1.73123)\n",
      "    don       (-1.69385)\n",
      "    just      (-1.47254)\n",
      "    like      (-1.41538)\n",
      "    space     (-1.01922)\n",
      "class talk.religion.misc\n",
      "    say       (-1.65558)\n",
      "    way       (-1.62818)\n",
      "    like      (-1.61476)\n",
      "    does      (-1.53780)\n",
      "    know      (-1.48959)\n",
      "    think     (-1.42139)\n",
      "    god       (-1.37837)\n",
      "    don       (-1.35753)\n",
      "    just      (-1.34728)\n",
      "    people    (-1.31712)\n"
     ]
    }
   ],
   "source": [
    "# get the word names\n",
    "fnames = asarray(vectorizer.get_feature_names())\n",
    "for i,c in enumerate(newsgroups_train.target_names):\n",
    "    tmp = argsort(bnb.coef_[i])[-10:]\n",
    "    print(\"class\", c)\n",
    "    for t in tmp:\n",
    "        print(\"    {:9s} ({:.5f})\".format(fnames[t], bnb.coef_[i][t]))"
   ]
  },
  {
   "cell_type": "markdown",
   "metadata": {},
   "source": [
    "## 4. Multinomial Naive Bayes model\n"
   ]
  },
  {
   "cell_type": "code",
   "execution_count": 10,
   "metadata": {
    "scrolled": true
   },
   "outputs": [
    {
     "name": "stdout",
     "output_type": "stream",
     "text": [
      "0.7745750184774575\n"
     ]
    }
   ],
   "source": [
    "\n",
    "from sklearn.feature_extraction.text import TfidfVectorizer\n",
    "from sklearn.feature_extraction.text import TfidfTransformer\n",
    "tfidf = feature_extraction.text.TfidfTransformer(use_idf=True, norm= 'l1')\n",
    "# tfidf_vec = TfidfVectorizer(stop_words = 'english')\n",
    "\n",
    "\n",
    "train_Xtf = tfidf.fit_transform(train_X)\n",
    "train_Ytf = newsgroups_train.target\n",
    "\n",
    "test_Xtf = tfidf.transform(test_X)\n",
    "test_Ytf = newsgroups_test.target\n",
    "\n",
    "mnbtf = naive_bayes.MultinomialNB(alpha= 0.00001)\n",
    "mnbtf.fit(train_Xtf, train_Ytf)\n",
    "mnb_scoretf = mnbtf.score(test_Xtf, test_Ytf)\n",
    "print(mnb_scoretf)\n",
    "\n"
   ]
  },
  {
   "cell_type": "markdown",
   "metadata": {},
   "source": [
    "Most informative features for Multinomial model"
   ]
  },
  {
   "cell_type": "code",
   "execution_count": 11,
   "metadata": {},
   "outputs": [
    {
     "name": "stdout",
     "output_type": "stream",
     "text": [
      "class alt.atheism\n",
      "    religion  (-5.83338)\n",
      "    objective (-5.78422)\n",
      "    does      (-5.74496)\n",
      "    say       (-5.65497)\n",
      "    think     (-5.53829)\n",
      "    people    (-5.52207)\n",
      "    don       (-5.43390)\n",
      "    deletion  (-5.28648)\n",
      "    god       (-5.21390)\n",
      "    just      (-5.19335)\n",
      "class comp.graphics\n",
      "    program   (-5.70729)\n",
      "    hi        (-5.70259)\n",
      "    does      (-5.64738)\n",
      "    image     (-5.61039)\n",
      "    looking   (-5.60881)\n",
      "    know      (-5.53253)\n",
      "    file      (-5.47213)\n",
      "    files     (-5.47115)\n",
      "    graphics  (-5.06724)\n",
      "    thanks    (-5.04180)\n",
      "class sci.space\n",
      "    real      (-6.18004)\n",
      "    launch    (-6.10616)\n",
      "    moon      (-6.08765)\n",
      "    think     (-6.08691)\n",
      "    orbit     (-6.03855)\n",
      "    thanks    (-5.99905)\n",
      "    just      (-5.88955)\n",
      "    like      (-5.78827)\n",
      "    nasa      (-5.76848)\n",
      "    space     (-4.98162)\n",
      "class talk.religion.misc\n",
      "    think     (-5.87438)\n",
      "    just      (-5.87425)\n",
      "    wrong     (-5.87405)\n",
      "    don       (-5.85587)\n",
      "    objective (-5.83855)\n",
      "    people    (-5.76136)\n",
      "    christian (-5.70165)\n",
      "    christians (-5.63392)\n",
      "    jesus     (-5.42966)\n",
      "    god       (-5.09269)\n"
     ]
    }
   ],
   "source": [
    "# get the word names\n",
    "fnames = asarray(vectorizer.get_feature_names())\n",
    "for i,c in enumerate(newsgroups_train.target_names):\n",
    "    tmp = argsort(mnbtf.coef_[i])[-10:]\n",
    "    print(\"class\", c)\n",
    "    for t in tmp:\n",
    "        print(\"    {:9s} ({:.5f})\".format(fnames[t], mnbtf.coef_[i][t]))"
   ]
  },
  {
   "cell_type": "markdown",
   "metadata": {
    "collapsed": true
   },
   "source": [
    "## 5. Effect of smoothing\n",
    "The smoothing (regularization) parameter has a big effect on the performance. "
   ]
  },
  {
   "cell_type": "code",
   "execution_count": 12,
   "metadata": {
    "scrolled": true
   },
   "outputs": [
    {
     "data": {
      "image/png": "[encoded data removed]",
      "text/plain": [
       "<Figure size 432x288 with 1 Axes>"
      ]
     },
     "metadata": {
      "needs_background": "light"
     },
     "output_type": "display_data"
    },
    {
     "name": "stdout",
     "output_type": "stream",
     "text": [
      "The best α is: 0.0005104904904904905\n",
      "The best accuracy is: 0.7804878048780488\n"
     ]
    }
   ],
   "source": [
    "score_array = []\n",
    "\n",
    "\n",
    "for a in linspace(0.00001,0.5,1000):\n",
    "    mnbtf = naive_bayes.MultinomialNB(alpha= a)\n",
    "    mnbtf.fit(train_Xtf, train_Ytf)\n",
    "    mnb_scoretf = mnbtf.score(test_Xtf, test_Ytf)\n",
    "    score_array.append(mnb_scoretf)\n",
    "X = linspace(0.00001,0.5,1000)\n",
    "Y = score_array\n",
    "plt.plot(X,Y,'g-')\n",
    "plt.grid(True)\n",
    "plt.xlabel('α');plt.ylabel('accuracy')\n",
    "plt.title(\"accuracy vs α\")\n",
    "plt.show()\n",
    "print(\"The best α is: \"+str(X[Y.index(max(Y))]))\n",
    "print(\"The best accuracy is: \"+str(max(Y)))"
   ]
  },
  {
   "cell_type": "markdown",
   "metadata": {},
   "source": [
    "## 6. Effect of vocabulary size\n",
    "The vocabulary size also affects the accuracy. "
   ]
  },
  {
   "cell_type": "code",
   "execution_count": 13,
   "metadata": {},
   "outputs": [
    {
     "name": "stdout",
     "output_type": "stream",
     "text": [
      "The biggest accuracy is obtained with: 24713.428571428572 number of features.\n",
      "The biggest accuracy obtained is: 0.7745750184774575\n"
     ]
    },
    {
     "data": {
      "image/png": "[encoded data removed]",
      "text/plain": [
       "<Figure size 432x288 with 1 Axes>"
      ]
     },
     "metadata": {
      "needs_background": "light"
     },
     "output_type": "display_data"
    }
   ],
   "source": [
    "score_arr_size = []\n",
    "max_size_features = len(vectorizer.get_feature_names())\n",
    "for size in linspace(500,max_size_features,15):\n",
    "    vectorizer = CountVectorizer(stop_words = 'english', max_features = int(size))\n",
    "    \n",
    "    train_X = vectorizer.fit_transform(newsgroups_train.data)\n",
    "    train_Y = newsgroups_train.target\n",
    "\n",
    "    test_X = vectorizer.transform(newsgroups_test.data)\n",
    "    test_Y = newsgroups_test.target\n",
    "    \n",
    "    tfidf = feature_extraction.text.TfidfTransformer(use_idf=True, norm='l1')\n",
    "    train_Xtf = tfidf.fit_transform(train_X)\n",
    "    test_Xtf = tfidf.transform(test_X)\n",
    "    mnbtf = naive_bayes.MultinomialNB(alpha= 0.00001)\n",
    "    mnbtf.fit(train_Xtf, train_Y)\n",
    "    \n",
    "    mnb_scoretf = mnbtf.score(test_Xtf, test_Y)\n",
    "    score_arr_size.append(mnb_scoretf)\n",
    "\n",
    "X = linspace(500,max_size_features,15)\n",
    "Y = score_arr_size\n",
    "plt.plot(X,Y,'r')\n",
    "plt.grid(True)\n",
    "print(\"The biggest accuracy is obtained with: \"+str(X[Y.index(max(Y))])+\" number of features.\")\n",
    "print(\"The biggest accuracy obtained is: \"+str(max(Y)))\n",
    "plt.title(\"accuracy vs size\")\n",
    "plt.xlabel(\"size of feautures\")\n",
    "plt.ylabel(\"accuracy\")\n",
    "plt.show()"
   ]
  },
  {
   "cell_type": "code",
   "execution_count": null,
   "metadata": {},
   "outputs": [],
   "source": []
  }
 ],
 "metadata": {
  "anaconda-cloud": {},
  "kernelspec": {
   "display_name": "Python 3",
   "language": "python",
   "name": "python3"
  },
  "language_info": {
   "codemirror_mode": {
    "name": "ipython",
    "version": 3
   },
   "file_extension": ".py",
   "mimetype": "text/x-python",
   "name": "python",
   "nbconvert_exporter": "python",
   "pygments_lexer": "ipython3",
   "version": "3.7.4"
  }
 },
 "nbformat": 4,
 "nbformat_minor": 1
}
