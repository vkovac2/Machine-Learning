{
 "cells": [
  {
   "cell_type": "markdown",
   "metadata": {},
   "source": [
    "**Name:** Veljko Kovac\n",
    "\n",
    "**EID:** 55173123"
   ]
  },
  {
   "cell_type": "code",
   "execution_count": 1,
   "metadata": {},
   "outputs": [],
   "source": [
    "# %matplotlib inline\n",
    "import IPython.core.display         \n",
    "# setup output image format (Chrome works best)\n",
    "IPython.core.display.set_matplotlib_formats(\"svg\")\n",
    "import matplotlib.pyplot as plt\n",
    "import matplotlib\n",
    "from numpy import *\n",
    "from sklearn import *\n",
    "import glob\n",
    "import os\n",
    "import csv\n",
    "import string\n",
    "random.seed(100)"
   ]
  },
  {
   "cell_type": "markdown",
   "metadata": {},
   "source": [
    "## 1. Loading Data and Pre-processing\n"
   ]
  },
  {
   "cell_type": "code",
   "execution_count": 2,
   "metadata": {},
   "outputs": [
    {
     "name": "stdout",
     "output_type": "stream",
     "text": [
      "(6608, 58)\n",
      "(6608,)\n"
     ]
    }
   ],
   "source": [
    "filename = 'OnlineNewsPopularity/OnlineNewsPopularity.csv'\n",
    "\n",
    "# read the data\n",
    "allfeatnames = []\n",
    "textdata      = []\n",
    "with open(filename, 'r') as f:\n",
    "    reader = csv.reader(f)\n",
    "    for row in reader:\n",
    "        if len(allfeatnames)==0:\n",
    "            allfeatnames = row\n",
    "        else:\n",
    "            textdata.append(row)\n",
    "\n",
    "# put the data into a np array\n",
    "dataX = empty((len(textdata), len(allfeatnames)-3))\n",
    "dataY = empty(len(textdata))\n",
    "for i,row in enumerate(textdata):\n",
    "    # extract features (remove the first 2 features and the last feature)\n",
    "    dataX[i,:] = array([float(x) for x in row[2:-1]])\n",
    "    # extract target (last entry)\n",
    "    dataY[i] = float(row[-1])\n",
    "    \n",
    "# extract feature names\n",
    "featnames = [x.strip() for x in allfeatnames[2:-1]]\n",
    "\n",
    "# extract a subset of data\n",
    "dataX = dataX[::6]\n",
    "dataY = dataY[::6]\n",
    "\n",
    "print(dataX.shape)\n",
    "print(dataY.shape)"
   ]
  },
  {
   "cell_type": "markdown",
   "metadata": {},
   "source": [
    "There are 58 features for each article.  Here are the feature names, and an example entry.  The actual description of the features can be found in the `OnlineNewsPopularity-features.txt` file."
   ]
  },
  {
   "cell_type": "code",
   "execution_count": 3,
   "metadata": {},
   "outputs": [
    {
     "name": "stdout",
     "output_type": "stream",
     "text": [
      "['n_tokens_title', 'n_tokens_content', 'n_unique_tokens', 'n_non_stop_words', 'n_non_stop_unique_tokens', 'num_hrefs', 'num_self_hrefs', 'num_imgs', 'num_videos', 'average_token_length', 'num_keywords', 'data_channel_is_lifestyle', 'data_channel_is_entertainment', 'data_channel_is_bus', 'data_channel_is_socmed', 'data_channel_is_tech', 'data_channel_is_world', 'kw_min_min', 'kw_max_min', 'kw_avg_min', 'kw_min_max', 'kw_max_max', 'kw_avg_max', 'kw_min_avg', 'kw_max_avg', 'kw_avg_avg', 'self_reference_min_shares', 'self_reference_max_shares', 'self_reference_avg_sharess', 'weekday_is_monday', 'weekday_is_tuesday', 'weekday_is_wednesday', 'weekday_is_thursday', 'weekday_is_friday', 'weekday_is_saturday', 'weekday_is_sunday', 'is_weekend', 'LDA_00', 'LDA_01', 'LDA_02', 'LDA_03', 'LDA_04', 'global_subjectivity', 'global_sentiment_polarity', 'global_rate_positive_words', 'global_rate_negative_words', 'rate_positive_words', 'rate_negative_words', 'avg_positive_polarity', 'min_positive_polarity', 'max_positive_polarity', 'avg_negative_polarity', 'min_negative_polarity', 'max_negative_polarity', 'title_subjectivity', 'title_sentiment_polarity', 'abs_title_subjectivity', 'abs_title_sentiment_polarity']\n",
      "--- example article features---\n",
      "[ 1.20000000e+01  2.19000000e+02  6.63594467e-01  9.99999992e-01\n",
      "  8.15384609e-01  4.00000000e+00  2.00000000e+00  1.00000000e+00\n",
      "  0.00000000e+00  4.68036530e+00  5.00000000e+00  0.00000000e+00\n",
      "  1.00000000e+00  0.00000000e+00  0.00000000e+00  0.00000000e+00\n",
      "  0.00000000e+00  0.00000000e+00  0.00000000e+00  0.00000000e+00\n",
      "  0.00000000e+00  0.00000000e+00  0.00000000e+00  0.00000000e+00\n",
      "  0.00000000e+00  0.00000000e+00  4.96000000e+02  4.96000000e+02\n",
      "  4.96000000e+02  1.00000000e+00  0.00000000e+00  0.00000000e+00\n",
      "  0.00000000e+00  0.00000000e+00  0.00000000e+00  0.00000000e+00\n",
      "  0.00000000e+00  5.00331204e-01  3.78278930e-01  4.00046751e-02\n",
      "  4.12626477e-02  4.01225435e-02  5.21617145e-01  9.25619835e-02\n",
      "  4.56621005e-02  1.36986301e-02  7.69230769e-01  2.30769231e-01\n",
      "  3.78636364e-01  1.00000000e-01  7.00000000e-01 -3.50000000e-01\n",
      " -6.00000000e-01 -2.00000000e-01  5.00000000e-01 -1.87500000e-01\n",
      "  0.00000000e+00  1.87500000e-01]\n",
      "--- example article target (# of shares)\n",
      "593.0\n"
     ]
    }
   ],
   "source": [
    "print(featnames)\n",
    "\n",
    "print(\"--- example article features---\")\n",
    "print(dataX[0])\n",
    "print(\"--- example article target (# of shares)\")\n",
    "print(dataY[0])"
   ]
  },
  {
   "cell_type": "markdown",
   "metadata": {},
   "source": [
    "Now separate the data into training and testing sets."
   ]
  },
  {
   "cell_type": "code",
   "execution_count": 4,
   "metadata": {},
   "outputs": [
    {
     "name": "stdout",
     "output_type": "stream",
     "text": [
      "(3304, 58)\n",
      "(3304, 58)\n"
     ]
    }
   ],
   "source": [
    "# randomly split data into 50% train and 50% test set\n",
    "trainX, testX, trainYo, testYo = \\\n",
    "  model_selection.train_test_split(dataX, dataY, \n",
    "  train_size=0.50, test_size=0.50, random_state=4487)\n",
    "\n",
    "print(trainX.shape)\n",
    "print(testX.shape)"
   ]
  },
  {
   "cell_type": "markdown",
   "metadata": {},
   "source": [
    "Finally, we normalize the input features."
   ]
  },
  {
   "cell_type": "code",
   "execution_count": 5,
   "metadata": {},
   "outputs": [],
   "source": [
    "# normalize feature values\n",
    "# this makes comparing weights more meaningful\n",
    "scaler = preprocessing.StandardScaler()  \n",
    "trainXn = scaler.fit_transform(trainX)  \n",
    "testXn  = scaler.transform(testX)    "
   ]
  },
  {
   "cell_type": "markdown",
   "metadata": {},
   "source": [
    "Because the target value (number of shares) has a large dynamic range, we will transform the target values through the log function."
   ]
  },
  {
   "cell_type": "code",
   "execution_count": 6,
   "metadata": {},
   "outputs": [
    {
     "data": {
      "image/png": "[encoded data removed]",
      "text/plain": [
       "<Figure size 720x216 with 2 Axes>"
      ]
     },
     "metadata": {
      "needs_background": "light"
     },
     "output_type": "display_data"
    }
   ],
   "source": [
    "# map targets to log-space\n",
    "trainY = log10(trainYo)\n",
    "testY  = log10(testYo)\n",
    "\n",
    "plt.figure(figsize=(10,3))\n",
    "plt.subplot(1,2,1)\n",
    "plt.hist(trainYo, 25);\n",
    "plt.title('histogram of Y values')\n",
    "plt.subplot(1,2,2)\n",
    "plt.hist(trainY, 25);\n",
    "plt.title(\"histogram of log(Y) values\");"
   ]
  },
  {
   "cell_type": "markdown",
   "metadata": {},
   "source": [
    "## 2. Prediction with Linear Regression\n",
    "\n",
    "First we will look at predicting the number of shares using simple linear regression models. "
   ]
  },
  {
   "cell_type": "code",
   "execution_count": 7,
   "metadata": {},
   "outputs": [
    {
     "name": "stdout",
     "output_type": "stream",
     "text": [
      "The error of linear regression is: 187.48206441843962\n",
      "The error of ridge regression is: 0.14607019477006344\n"
     ]
    }
   ],
   "source": [
    "linreg = linear_model.LinearRegression()\n",
    "ridge = linear_model.Ridge(alpha=1.0)\n",
    "\n",
    "\n",
    "linreg_fit = linreg.fit(trainXn, trainY)\n",
    "ridge_fit = ridge.fit(trainXn, trainY)\n",
    "\n",
    "\n",
    "predY_linreg = linreg.predict(testXn)\n",
    "predY_ridge = ridge.predict(testXn)\n",
    "\n",
    "\n",
    "linreg_acc = metrics.mean_absolute_error(predY_linreg, testY)\n",
    "ridge_acc = metrics.mean_squared_error(predY_ridge, testY)\n",
    "\n",
    "\n",
    "print(\"The error of linear regression is: \"+ str(linreg_acc))\n",
    "print(\"The error of ridge regression is: \"+ str(ridge_acc))\n",
    "\n"
   ]
  },
  {
   "cell_type": "code",
   "execution_count": 8,
   "metadata": {},
   "outputs": [
    {
     "name": "stdout",
     "output_type": "stream",
     "text": [
      "The error of ridgeCV is: 0.14582813195944766\n"
     ]
    }
   ],
   "source": [
    "alphas = logspace(-3,6,50)\n",
    "ridgecv = linear_model.RidgeCV(alphas=alphas, cv=5)\n",
    "ridgecv.fit(trainXn, trainY)\n",
    "ridgecv_acc = metrics.mean_squared_error(testY, ridgecv.predict(testXn))\n",
    "\n",
    "print(\"The error of ridgeCV is: \"+ str(ridgecv_acc))\n"
   ]
  },
  {
   "cell_type": "markdown",
   "metadata": {},
   "source": [
    "Compare the two models"
   ]
  },
  {
   "cell_type": "code",
   "execution_count": 9,
   "metadata": {},
   "outputs": [
    {
     "name": "stdout",
     "output_type": "stream",
     "text": [
      "Linear Regression: train error = 0.28690827091489324\n",
      "Linear Regression: test error = 187.48206441843962\n"
     ]
    }
   ],
   "source": [
    "# ols is the linear regression model\n",
    "\n",
    "trainAE = metrics.mean_absolute_error(trainY, linreg.predict(trainXn))\n",
    "testAE  = metrics.mean_absolute_error(testY, linreg.predict(testXn))\n",
    "\n",
    "print(\"Linear Regression: train error =\", trainAE)\n",
    "print(\"Linear Regression: test error =\", testAE)"
   ]
  },
  {
   "cell_type": "code",
   "execution_count": 10,
   "metadata": {},
   "outputs": [
    {
     "name": "stdout",
     "output_type": "stream",
     "text": [
      "RidgeCV: train error = 0.2889851504763784\n",
      "RidgeCV: test error = 0.28565855588912115\n"
     ]
    }
   ],
   "source": [
    "trainAE = metrics.mean_absolute_error(trainY, ridgecv.predict(trainXn))\n",
    "testAE  = metrics.mean_absolute_error(testY, ridgecv.predict(testXn))\n",
    "print(\"RidgeCV: train error =\", trainAE)\n",
    "print(\"RidgeCV: test error =\", testAE)"
   ]
  },
  {
   "cell_type": "markdown",
   "metadata": {},
   "source": [
    "## 3. Importance of Features\n",
    "Next we will investigate which features are the most important for the prediction. "
   ]
  },
  {
   "cell_type": "code",
   "execution_count": 11,
   "metadata": {},
   "outputs": [
    {
     "name": "stdout",
     "output_type": "stream",
     "text": [
      "train error = 0.2889851504763784\n",
      "test error = 0.28565855588912115\n"
     ]
    },
    {
     "name": "stderr",
     "output_type": "stream",
     "text": [
      "C:\\Users\\DELL\\Anaconda3\\lib\\site-packages\\sklearn\\model_selection\\_split.py:1978: FutureWarning: The default value of cv will change from 3 to 5 in version 0.22. Specify it explicitly to silence this warning.\n",
      "  warnings.warn(CV_WARNING, FutureWarning)\n"
     ]
    }
   ],
   "source": [
    "# LASSO\n",
    "las = linear_model.LassoCV()\n",
    "las_fit = las.fit(trainXn, trainY)\n",
    "train_acc = metrics.mean_absolute_error(trainY, las.predict(trainXn))\n",
    "test_acc = metrics.mean_absolute_error(testY, las.predict(testXn))\n",
    "print(\"train error =\",trainAE)\n",
    "print(\"test error =\",testAE)"
   ]
  },
  {
   "cell_type": "markdown",
   "metadata": {},
   "source": [
    "Examine the LASSO coefficients by sorting them in descending order."
   ]
  },
  {
   "cell_type": "code",
   "execution_count": 12,
   "metadata": {},
   "outputs": [
    {
     "name": "stdout",
     "output_type": "stream",
     "text": [
      "weight : feature description\n",
      " 0.094 : kw_avg_avg\n",
      "-0.042 : LDA_02\n",
      "-0.038 : kw_max_avg\n",
      "-0.034 : data_channel_is_entertainment\n",
      "-0.027 : average_token_length\n",
      " 0.025 : global_subjectivity\n",
      " 0.025 : num_hrefs\n",
      " 0.022 : kw_min_min\n",
      "-0.022 : data_channel_is_bus\n",
      " 0.022 : is_weekend\n",
      " 0.020 : LDA_00\n",
      " 0.019 : n_tokens_content\n",
      " 0.018 : data_channel_is_socmed\n",
      "-0.018 : kw_avg_min\n",
      " 0.015 : self_reference_avg_sharess\n",
      "-0.013 : max_positive_polarity\n",
      " 0.012 : title_sentiment_polarity\n",
      "-0.012 : data_channel_is_lifestyle\n",
      " 0.009 : weekday_is_sunday\n",
      "-0.008 : LDA_01\n",
      "-0.007 : avg_negative_polarity\n",
      "-0.007 : kw_avg_max\n",
      " 0.007 : n_tokens_title\n",
      " 0.006 : self_reference_max_shares\n",
      " 0.006 : num_keywords\n",
      "-0.006 : kw_min_max\n",
      "-0.005 : weekday_is_friday\n",
      " 0.005 : weekday_is_monday\n",
      " 0.004 : data_channel_is_tech\n",
      "-0.004 : weekday_is_tuesday\n",
      "-0.003 : num_self_hrefs\n",
      " 0.003 : LDA_03\n",
      "-0.002 : min_positive_polarity\n",
      "-0.002 : rate_positive_words\n",
      " 0.002 : num_imgs\n",
      " 0.002 : self_reference_min_shares\n",
      "-0.002 : max_negative_polarity\n",
      " 0.001 : weekday_is_thursday\n",
      "-0.000 : min_negative_polarity\n",
      " 0.000 : weekday_is_saturday\n",
      " 0.000 : num_videos\n",
      "-0.000 : n_non_stop_words\n",
      "-0.000 : n_unique_tokens\n",
      "-0.000 : title_subjectivity\n",
      "-0.000 : n_non_stop_unique_tokens\n",
      " 0.000 : global_rate_negative_words\n",
      "-0.000 : avg_positive_polarity\n",
      " 0.000 : rate_negative_words\n",
      "-0.000 : data_channel_is_world\n",
      "-0.000 : kw_max_min\n",
      "-0.000 : global_rate_positive_words\n",
      "-0.000 : kw_max_max\n",
      "-0.000 : global_sentiment_polarity\n",
      " 0.000 : kw_min_avg\n",
      "-0.000 : LDA_04\n",
      " 0.000 : abs_title_subjectivity\n",
      "-0.000 : weekday_is_wednesday\n",
      " 0.000 : abs_title_sentiment_polarity\n"
     ]
    }
   ],
   "source": [
    "# sort coefficients from smallest to largest, then reverse it\n",
    "inds = argsort(abs(las.coef_))[::-1]\n",
    "# print out\n",
    "print(\"weight : feature description\")\n",
    "for i in inds:\n",
    "    print(\"{: .3f} : {}\".format(las.coef_[i], featnames[i]))"
   ]
  },
  {
   "cell_type": "code",
   "execution_count": null,
   "metadata": {},
   "outputs": [],
   "source": []
  }
 ],
 "metadata": {
  "anaconda-cloud": {},
  "kernelspec": {
   "display_name": "Python 3",
   "language": "python",
   "name": "python3"
  },
  "language_info": {
   "codemirror_mode": {
    "name": "ipython",
    "version": 3
   },
   "file_extension": ".py",
   "mimetype": "text/x-python",
   "name": "python",
   "nbconvert_exporter": "python",
   "pygments_lexer": "ipython3",
   "version": "3.7.4"
  }
 },
 "nbformat": 4,
 "nbformat_minor": 1
}
